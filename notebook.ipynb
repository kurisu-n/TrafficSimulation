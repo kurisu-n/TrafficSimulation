{
 "cells": [
  {
   "cell_type": "code",
   "execution_count": 9,
   "id": "598ddbab-11cc-4615-ba6c-58d3cf32f4b4",
   "metadata": {
    "scrolled": true
   },
   "outputs": [],
   "source": [
    "from mesa.visualization import JupyterViz\n",
    "from creation import StructuredCityModel, GRID_WIDTH, GRID_HEIGHT\n",
    "from cell import agent_portrayal\n"
   ]
  },
  {
   "cell_type": "code",
   "execution_count": 10,
   "id": "65686958-7c8a-4caf-b3dc-3a717a0e6a65",
   "metadata": {},
   "outputs": [],
   "source": [
    "# Optional styling function\n",
    "def post_process(ax):\n",
    "    ax.set_aspect(\"equal\")\n",
    "    ax.set_xticks(range(GRID_WIDTH + 1))\n",
    "    ax.set_yticks(range(GRID_HEIGHT + 1))\n",
    "    ax.grid(True, color=\"lightgray\", linewidth=0.5)\n",
    "    ax.set_facecolor(\"white\")\n",
    "\n",
    "# Create the visualization component using make_space_component\n",
    "SpaceGrid = make_space_component(\n",
    "    agent_portrayal,\n",
    "    post_process=post_process,\n",
    "    draw_grid=True\n",
    ")\n"
   ]
  },
  {
   "cell_type": "code",
   "execution_count": 11,
   "id": "6fc698cf-a718-4216-909b-73ea99a3d86f",
   "metadata": {},
   "outputs": [
    {
     "data": {
      "application/vnd.jupyter.widget-view+json": {
       "model_id": "8c6c18de13d94b269631107f878d8286",
       "version_major": 2,
       "version_minor": 0
      },
      "text/html": [
       "Cannot show widget. You probably want to rerun the code cell above (<i>Click in the code cell, and press Shift+Enter <kbd>⇧</kbd>+<kbd>↩</kbd></i>)."
      ],
      "text/plain": [
       "Cannot show ipywidgets in text"
      ]
     },
     "metadata": {},
     "output_type": "display_data"
    }
   ],
   "source": [
    "viz = JupyterViz(\n",
    "    StructuredCityModel(GRID_WIDTH, GRID_HEIGHT),\n",
    "    components=[SpaceGrid],\n",
    ")\n",
    "\n",
    "viz  # Explicitly display the visualization component\n"
   ]
  },
  {
   "cell_type": "code",
   "execution_count": null,
   "id": "9690433d-f7ff-46f3-a269-761235010701",
   "metadata": {},
   "outputs": [],
   "source": []
  }
 ],
 "metadata": {
  "kernelspec": {
   "display_name": "Python 3 (ipykernel)",
   "language": "python",
   "name": "python3"
  },
  "language_info": {
   "codemirror_mode": {
    "name": "ipython",
    "version": 3
   },
   "file_extension": ".py",
   "mimetype": "text/x-python",
   "name": "python",
   "nbconvert_exporter": "python",
   "pygments_lexer": "ipython3",
   "version": "3.11.11"
  }
 },
 "nbformat": 4,
 "nbformat_minor": 5
}
